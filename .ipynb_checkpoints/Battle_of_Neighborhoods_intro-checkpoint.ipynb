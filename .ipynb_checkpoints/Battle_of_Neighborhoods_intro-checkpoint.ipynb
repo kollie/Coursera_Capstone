{
 "cells": [
  {
   "cell_type": "markdown",
   "metadata": {
    "button": false,
    "new_sheet": false,
    "run_control": {
     "read_only": false
    }
   },
   "source": [
    "<h1 align=center><font size = 5>Recommendation for starting a new business in Monrovia</font></h1>\n",
    "<h4 align=center>Exploring the city of Monrovia</h4>"
   ]
  },
  {
   "cell_type": "markdown",
   "metadata": {},
   "source": [
    "## Introduction\n",
    "\n",
    "In this notebook, I will be exploring the city of Monrovia using the Foursquare location data. Monrovia is the capital of Liberia in West Africa. In addition to it being the capital, it is the largest and commercial hub of the country. Major restaurants, bars, hotels and large businesses are situated in Monrovia. It consist of the largest purchasing power of the population in the country. Since I am a Liberian and live in Monrovia, I will be exploring various locations within Monrovia that will give an insight to potential business owners on what kind of business to establish and where you would make the most returns on investment. The recommendation will be based on Foursquare data which already has the major businesses and reviews."
   ]
  },
  {
   "cell_type": "markdown",
   "metadata": {},
   "source": []
  }
 ],
 "metadata": {
  "kernelspec": {
   "display_name": "Python 3",
   "language": "python",
   "name": "python3"
  },
  "language_info": {
   "codemirror_mode": {
    "name": "ipython",
    "version": 3
   },
   "file_extension": ".py",
   "mimetype": "text/x-python",
   "name": "python",
   "nbconvert_exporter": "python",
   "pygments_lexer": "ipython3",
   "version": "3.8.1"
  }
 },
 "nbformat": 4,
 "nbformat_minor": 2
}
